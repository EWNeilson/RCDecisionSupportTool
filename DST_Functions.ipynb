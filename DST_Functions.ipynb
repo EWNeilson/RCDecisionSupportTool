{
 "cells": [
  {
   "cell_type": "code",
   "execution_count": null,
   "id": "6784da60",
   "metadata": {},
   "outputs": [],
   "source": [
    "def readQuestion(strIndex):\n",
    "    \n",
    "    print('')\n",
    "    global currPos\n",
    "    global prevPos\n",
    "    global answer    \n",
    "    \n",
    "    currPos = iData[strIndex]    \n",
    "    \n",
    "    answer = input( currPos[\"Text\"] )        \n",
    "        \n",
    "    if answer.upper() == \"B\":\n",
    "        readQuestion(prevPos)\n",
    "    \n",
    "    if currPos[\"Function\"] != \"\":        \n",
    "        #print(\"Calling \" + currPos[\"Function\"] ) \n",
    "        method = globals() [ currPos[\"Function\"] ]\n",
    "        method()        \n",
    "    \n",
    "    if answer in currPos[\"posAnswers\"]:\n",
    "        prevPos = strIndex\n",
    "        nextPos = currPos[\"posAnswers\"].index(answer)\n",
    "        readQuestion( currPos[\"ResponseIndices\"][nextPos] )\n",
    "\n",
    "    else:\n",
    "        print(\"Use only numbers available.\")\n",
    "        readQuestion(strIndex)"
   ]
  }
 ],
 "metadata": {
  "kernelspec": {
   "display_name": "Python 3 (ipykernel)",
   "language": "python",
   "name": "python3"
  },
  "language_info": {
   "codemirror_mode": {
    "name": "ipython",
    "version": 3
   },
   "file_extension": ".py",
   "mimetype": "text/x-python",
   "name": "python",
   "nbconvert_exporter": "python",
   "pygments_lexer": "ipython3",
   "version": "3.10.9"
  }
 },
 "nbformat": 4,
 "nbformat_minor": 5
}
